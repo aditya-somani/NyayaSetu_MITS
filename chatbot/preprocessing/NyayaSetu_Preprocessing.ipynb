{
  "cells": [
    {
      "cell_type": "markdown",
      "metadata": {
        "id": "EBymoRui3WDo"
      },
      "source": [
        "## Dependencies"
      ]
    },
    {
      "cell_type": "code",
      "execution_count": null,
      "metadata": {
        "colab": {
          "base_uri": "https://localhost:8080/"
        },
        "id": "eG1QVFKx28lk",
        "outputId": "848bfb30-5eb6-40fe-9914-a310655eb722"
      },
      "outputs": [
        {
          "output_type": "stream",
          "name": "stdout",
          "text": [
            "\u001b[?25l   \u001b[90m━━━━━━━━━━━━━━━━━━━━━━━━━━━━━━━━━━━━━━━━\u001b[0m \u001b[32m0.0/1.0 MB\u001b[0m \u001b[31m?\u001b[0m eta \u001b[36m-:--:--\u001b[0m\r\u001b[2K   \u001b[91m━━━━━━━━━━━━━━━━━━━━━━━━━━━━━━━━━━━━━━━\u001b[0m\u001b[91m╸\u001b[0m \u001b[32m1.0/1.0 MB\u001b[0m \u001b[31m32.5 MB/s\u001b[0m eta \u001b[36m0:00:01\u001b[0m\r\u001b[2K   \u001b[90m━━━━━━━━━━━━━━━━━━━━━━━━━━━━━━━━━━━━━━━━\u001b[0m \u001b[32m1.0/1.0 MB\u001b[0m \u001b[31m21.8 MB/s\u001b[0m eta \u001b[36m0:00:00\u001b[0m\n",
            "\u001b[2K   \u001b[90m━━━━━━━━━━━━━━━━━━━━━━━━━━━━━━━━━━━━━━━━\u001b[0m \u001b[32m2.5/2.5 MB\u001b[0m \u001b[31m76.3 MB/s\u001b[0m eta \u001b[36m0:00:00\u001b[0m\n",
            "\u001b[2K   \u001b[90m━━━━━━━━━━━━━━━━━━━━━━━━━━━━━━━━━━━━━━━━\u001b[0m \u001b[32m24.1/24.1 MB\u001b[0m \u001b[31m73.2 MB/s\u001b[0m eta \u001b[36m0:00:00\u001b[0m\n",
            "\u001b[2K   \u001b[90m━━━━━━━━━━━━━━━━━━━━━━━━━━━━━━━━━━━━━━━━\u001b[0m \u001b[32m438.9/438.9 kB\u001b[0m \u001b[31m26.8 MB/s\u001b[0m eta \u001b[36m0:00:00\u001b[0m\n",
            "\u001b[2K   \u001b[90m━━━━━━━━━━━━━━━━━━━━━━━━━━━━━━━━━━━━━━━━\u001b[0m \u001b[32m69.2/69.2 kB\u001b[0m \u001b[31m4.5 MB/s\u001b[0m eta \u001b[36m0:00:00\u001b[0m\n",
            "\u001b[2K   \u001b[90m━━━━━━━━━━━━━━━━━━━━━━━━━━━━━━━━━━━━━━━━\u001b[0m \u001b[32m46.3/46.3 kB\u001b[0m \u001b[31m3.3 MB/s\u001b[0m eta \u001b[36m0:00:00\u001b[0m\n",
            "\u001b[2K   \u001b[90m━━━━━━━━━━━━━━━━━━━━━━━━━━━━━━━━━━━━━━━━\u001b[0m \u001b[32m524.3/524.3 kB\u001b[0m \u001b[31m33.3 MB/s\u001b[0m eta \u001b[36m0:00:00\u001b[0m\n",
            "\u001b[2K   \u001b[90m━━━━━━━━━━━━━━━━━━━━━━━━━━━━━━━━━━━━━━━━\u001b[0m \u001b[32m45.2/45.2 kB\u001b[0m \u001b[31m3.0 MB/s\u001b[0m eta \u001b[36m0:00:00\u001b[0m\n",
            "\u001b[2K   \u001b[90m━━━━━━━━━━━━━━━━━━━━━━━━━━━━━━━━━━━━━━━━\u001b[0m \u001b[32m50.9/50.9 kB\u001b[0m \u001b[31m3.7 MB/s\u001b[0m eta \u001b[36m0:00:00\u001b[0m\n",
            "\u001b[2K   \u001b[90m━━━━━━━━━━━━━━━━━━━━━━━━━━━━━━━━━━━━━━━━\u001b[0m \u001b[32m240.0/240.0 kB\u001b[0m \u001b[31m19.2 MB/s\u001b[0m eta \u001b[36m0:00:00\u001b[0m\n",
            "\u001b[2K   \u001b[90m━━━━━━━━━━━━━━━━━━━━━━━━━━━━━━━━━━━━━━━━\u001b[0m \u001b[32m52.2/52.2 kB\u001b[0m \u001b[31m3.4 MB/s\u001b[0m eta \u001b[36m0:00:00\u001b[0m\n",
            "\u001b[2K   \u001b[90m━━━━━━━━━━━━━━━━━━━━━━━━━━━━━━━━━━━━━━━━\u001b[0m \u001b[32m42.3/42.3 kB\u001b[0m \u001b[31m2.7 MB/s\u001b[0m eta \u001b[36m0:00:00\u001b[0m\n",
            "\u001b[2K   \u001b[90m━━━━━━━━━━━━━━━━━━━━━━━━━━━━━━━━━━━━━━━━\u001b[0m \u001b[32m44.3/44.3 kB\u001b[0m \u001b[31m2.8 MB/s\u001b[0m eta \u001b[36m0:00:00\u001b[0m\n",
            "\u001b[?25h"
          ]
        }
      ],
      "source": [
        "%pip install --quiet -U langchain langchain-community pymupdf langchain-huggingface langchain-pinecone pinecone-notebooks tiktoken"
      ]
    },
    {
      "cell_type": "markdown",
      "metadata": {
        "id": "_qB72coB4eCz"
      },
      "source": [
        "## Environment"
      ]
    },
    {
      "cell_type": "code",
      "execution_count": null,
      "metadata": {
        "id": "y3R7EV4-3YZM"
      },
      "outputs": [],
      "source": [
        "from google.colab import userdata\n",
        "import os"
      ]
    },
    {
      "cell_type": "code",
      "execution_count": null,
      "metadata": {
        "id": "061CJHGg4Yo8"
      },
      "outputs": [],
      "source": [
        "os.environ['PINECONE_API_KEY']=userdata.get('PINECONE_API_KEY')"
      ]
    },
    {
      "cell_type": "code",
      "execution_count": null,
      "metadata": {
        "id": "YWBTC4LU4hYd"
      },
      "outputs": [],
      "source": [
        "from langchain_pinecone import PineconeVectorStore\n",
        "from pinecone import Pinecone,ServerlessSpec\n",
        "\n",
        "\n",
        "from pathlib import Path\n",
        "from langchain_community.document_loaders import PyMuPDFLoader\n",
        "from langchain_text_splitters import RecursiveCharacterTextSplitter\n",
        "from langchain_huggingface import HuggingFaceEmbeddings\n",
        "\n",
        "from uuid import uuid4\n",
        "import time"
      ]
    },
    {
      "cell_type": "markdown",
      "metadata": {
        "id": "s0XRKzTk72nH"
      },
      "source": [
        "## Document Loading and Chunking"
      ]
    },
    {
      "cell_type": "code",
      "execution_count": null,
      "metadata": {
        "colab": {
          "base_uri": "https://localhost:8080/"
        },
        "id": "sM2O4Vvm-yRp",
        "outputId": "3803f28c-b39f-4477-d01b-273a098c6506"
      },
      "outputs": [
        {
          "output_type": "stream",
          "name": "stdout",
          "text": [
            "/content/Knowledge_base/Transportation.pdf\n",
            "/content/Knowledge_base/Infra_corruption_municipal.pdf\n",
            "/content/Knowledge_base/Cybercrime.pdf\n",
            "/content/Knowledge_base/Miscellaneous.pdf\n"
          ]
        },
        {
          "output_type": "execute_result",
          "data": {
            "text/plain": [
              "[None, None, None, None]"
            ]
          },
          "metadata": {},
          "execution_count": 5
        }
      ],
      "source": [
        "data_dir = '/content/Knowledge_base'\n",
        "[print(i) for i in Path(data_dir).glob(\"*.pdf\")]"
      ]
    },
    {
      "cell_type": "code",
      "execution_count": null,
      "metadata": {
        "colab": {
          "base_uri": "https://localhost:8080/"
        },
        "id": "mDh2lpQ79D_z",
        "outputId": "1ae4c9f5-550a-46c1-8f3c-2a3a9cc3d895"
      },
      "outputs": [
        {
          "output_type": "stream",
          "name": "stdout",
          "text": [
            "Processing Transportation.pdf...\n",
            "Processing Infra_corruption_municipal.pdf...\n",
            "Processing Cybercrime.pdf...\n",
            "Processing Miscellaneous.pdf...\n",
            "Processed 149 document chunks\n"
          ]
        }
      ],
      "source": [
        "# import re\n",
        "from pathlib import Path\n",
        "from pymupdf import Document\n",
        "from langchain.document_loaders import PyMuPDFLoader\n",
        "from langchain.text_splitter import RecursiveCharacterTextSplitter\n",
        "\n",
        "def process_pdf_document(file_path: str) -> list:\n",
        "    \"\"\"Process a single PDF document with enhanced metadata\"\"\"\n",
        "    loader = PyMuPDFLoader(file_path)\n",
        "    docs = loader.load()\n",
        "    return docs\n",
        "\n",
        "def preprocess_legal_documents(data_dir: str = '/content/Knowledge_base') -> list:\n",
        "    \"\"\"Process all PDFs in directory with optimal chunking\"\"\"\n",
        "    text_splitter = RecursiveCharacterTextSplitter.from_tiktoken_encoder(\n",
        "        chunk_size=1000,\n",
        "        chunk_overlap=200,\n",
        "    )\n",
        "\n",
        "    all_docs = []\n",
        "    for pdf_file in Path(data_dir).glob('*.pdf'):\n",
        "        print(f\"Processing {pdf_file.name}...\")\n",
        "        docs = process_pdf_document(str(pdf_file))\n",
        "        chunks = text_splitter.split_documents(docs)\n",
        "        all_docs.extend(chunks)\n",
        "\n",
        "    print(f\"Processed {len(all_docs)} document chunks\")\n",
        "    return all_docs\n",
        "\n",
        "# Usage\n",
        "documents = preprocess_legal_documents()"
      ]
    },
    {
      "cell_type": "code",
      "source": [
        "documents[:1]"
      ],
      "metadata": {
        "colab": {
          "base_uri": "https://localhost:8080/"
        },
        "id": "vhpu5cmt3Zek",
        "outputId": "a07cbe82-568e-45d5-e22a-8b8ec5f55874"
      },
      "execution_count": null,
      "outputs": [
        {
          "output_type": "execute_result",
          "data": {
            "text/plain": [
              "[Document(metadata={'producer': 'Skia/PDF m127', 'creator': 'Chromium', 'creationdate': '2025-06-25T07:43:09+00:00', 'source': '/content/Knowledge_base/Transportation.pdf', 'file_path': '/content/Knowledge_base/Transportation.pdf', 'total_pages': 62, 'format': 'PDF 1.4', 'title': '', 'author': '', 'subject': '', 'keywords': '', 'moddate': '2025-06-25T07:43:09+00:00', 'trapped': '', 'modDate': \"D:20250625074309+00'00'\", 'creationDate': \"D:20250625074309+00'00'\", 'page': 0}, page_content='This knowledge database serves as a complete reference guide for Indian citizens navigating\\ntransportation-related legal matters. It covers all modes of transport including railways, road\\nvehicles, aviation, shipping, and metro systems. The information is structured for easy\\nintegration into RAG-based chatbot systems.\\nPrimary Question (English): What are the cancellation charges and refund rules for railway\\ntickets in India?\\nHindi Translation: भारत में रेलवे टिकट रद्द करने के शुल्क और रिफंड नियम क्या हैं?\\nAlternative Phrasings:\\nA. Immediate Answer:\\nRailway ticket cancellation charges vary based on timing and class. For confirmed tickets\\ncancelled more than 48 hours before departure, flat rates apply (₹120-₹240). Cancellation\\nbetween 48-12 hours incurs 25% of fare, and 12-4 hours before departure incurs 50% of fare\\n.\\nB. Detailed Explanation:\\nTimeline and Charges for Confirmed Tickets:\\nComprehensive Legal Knowledge Database for\\nTransportation in India\\nOverview\\n1. RAILWAY TRANSPORTATION\\nQuestion 1: Railway Ticket Cancellation and Refund Rules\\nHow much money will I get back if I cancel my train ticket?\\nWhat are IRCTC ticket cancellation fees?\\nRailway ticket refund policy India\\nTrain ticket cancellation charges IRCTC\\n[1]\\n[2] [3]\\nMore than 48 hours: Flat cancellation charges per passenger:\\nAC First Class/Executive Class: ₹240\\nAC 2-Tier/First Class: ₹200\\nAC 3-Tier/AC Chair Car: ₹180\\nSleeper Class: ₹120')]"
            ]
          },
          "metadata": {},
          "execution_count": 7
        }
      ]
    },
    {
      "cell_type": "markdown",
      "metadata": {
        "id": "O5WSxjWBVd4c"
      },
      "source": [
        "## Embedding & Vector Store"
      ]
    },
    {
      "cell_type": "code",
      "execution_count": null,
      "metadata": {
        "id": "bkElzzSP6Jfq"
      },
      "outputs": [],
      "source": [
        "index_name = 'nyayasetu'\n",
        "pc = Pinecone() #setting up connection with PineCone"
      ]
    },
    {
      "cell_type": "code",
      "execution_count": null,
      "metadata": {
        "colab": {
          "base_uri": "https://localhost:8080/"
        },
        "id": "u2H8nZTF6On0",
        "outputId": "94b37855-3038-49f2-bb58-71ba7686bfed"
      },
      "outputs": [
        {
          "output_type": "execute_result",
          "data": {
            "text/plain": [
              "['advanceragpipeline', 'graminsaathi', 'krishiarya']"
            ]
          },
          "metadata": {},
          "execution_count": 9
        }
      ],
      "source": [
        "existing_index = [i.name for i in pc.list_indexes()] #checking for existing indexes\n",
        "existing_index"
      ]
    },
    {
      "cell_type": "code",
      "execution_count": null,
      "metadata": {
        "id": "-SLg1HW96S5k"
      },
      "outputs": [],
      "source": [
        "if index_name not in existing_index:\n",
        "    pc.create_index(\n",
        "        name = index_name,\n",
        "        dimension = 768,\n",
        "        metric = 'cosine',\n",
        "        spec=ServerlessSpec(cloud=\"aws\", region=\"us-east-1\")\n",
        "    )\n",
        "    while not pc.describe_index(index_name).status['ready']:\n",
        "        time.sleep(1)\n",
        "else:\n",
        "    print(f'Index {index_name} already exists')"
      ]
    },
    {
      "cell_type": "code",
      "execution_count": null,
      "metadata": {
        "id": "E63LiXN89D8Z"
      },
      "outputs": [],
      "source": [
        "embeddings = HuggingFaceEmbeddings(\n",
        "        model_name=\"BAAI/bge-base-en-v1.5\",\n",
        "        model_kwargs={'device': 'cpu'},\n",
        "        encode_kwargs={'normalize_embeddings': True}\n",
        "    )\n",
        "\n",
        "index = pc.Index(index_name)\n",
        "vector_store = PineconeVectorStore(index=index,embedding=embeddings)\n",
        "\n",
        "#testing first\n",
        "# single = documents[:2]\n",
        "# vector_store.add_documents(documents=single)"
      ]
    },
    {
      "cell_type": "code",
      "execution_count": null,
      "metadata": {
        "id": "WyLYAbtTadI2",
        "colab": {
          "base_uri": "https://localhost:8080/"
        },
        "outputId": "7775f40a-3907-49da-a63f-86365046bcd5"
      },
      "outputs": [
        {
          "output_type": "stream",
          "name": "stdout",
          "text": [
            "Batch 1 added successfully.\n",
            "Batch 2 added successfully.\n"
          ]
        }
      ],
      "source": [
        "import uuid\n",
        "batch_size = 100\n",
        "uuids = [str(uuid.uuid4()) for _ in documents]\n",
        "for i in range(0, len(documents), batch_size):\n",
        "    batch_docs = documents[i:i+batch_size]\n",
        "    batch_uuids = uuids[i:i+batch_size]\n",
        "\n",
        "    try:\n",
        "        vector_store.add_documents(documents=batch_docs, ids=batch_uuids)\n",
        "        print(f\"Batch {i//batch_size + 1} added successfully.\")\n",
        "    except Exception as e:\n",
        "        print(f\"Error adding batch {i//batch_size + 1}: {e}\")\n"
      ]
    },
    {
      "cell_type": "code",
      "execution_count": null,
      "metadata": {
        "id": "BUg20g8y7mW5"
      },
      "outputs": [],
      "source": [
        "#Checking Retrival\n",
        "\n",
        "retriever = vector_store.as_retriever(\n",
        "    search_type = 'similarity_score_threshold',\n",
        "    search_kwargs = {'k':3,'score_threshold':0.7},\n",
        ")"
      ]
    },
    {
      "cell_type": "code",
      "source": [
        "retriever.get_relevant_documents('Fines in Railway')"
      ],
      "metadata": {
        "colab": {
          "base_uri": "https://localhost:8080/"
        },
        "id": "ElZrcJ8kqprN",
        "outputId": "229885cb-1bb3-4d49-d809-adafab29faf2"
      },
      "execution_count": null,
      "outputs": [
        {
          "output_type": "stream",
          "name": "stderr",
          "text": [
            "/tmp/ipython-input-14-4186765475.py:1: LangChainDeprecationWarning: The method `BaseRetriever.get_relevant_documents` was deprecated in langchain-core 0.1.46 and will be removed in 1.0. Use :meth:`~invoke` instead.\n",
            "  retriever.get_relevant_documents('Fines in Railway')\n"
          ]
        },
        {
          "output_type": "execute_result",
          "data": {
            "text/plain": [
              "[Document(id='d35434bd-7f69-4f69-9785-a5bb17e2508c', metadata={'author': '', 'creationDate': \"D:20250625074309+00'00'\", 'creationdate': '2025-06-25T07:43:09+00:00', 'creator': 'Chromium', 'file_path': '/content/Knowledge_base/Transportation.pdf', 'format': 'PDF 1.4', 'keywords': '', 'modDate': \"D:20250625074309+00'00'\", 'moddate': '2025-06-25T07:43:09+00:00', 'page': 19.0, 'producer': 'Skia/PDF m127', 'source': '/content/Knowledge_base/Transportation.pdf', 'subject': '', 'title': '', 'total_pages': 62.0, 'trapped': ''}, page_content='Accessibility Features:\\nPenalties and Fines:\\nGrievance Redressal:\\nSecurity Measures:\\nCommercial Activities Regulation:\\nC. Legal Framework:\\nPrimary Law: Metro Railway (Operations and Maintenance) Act, 2002\\nFollow platform markings\\nEmergency communication devices available\\nWheelchair accessible stations\\nBraille signage for visually impaired\\nAudio announcements in multiple languages\\nDesignated coaches for women\\nElevator/escalator facilities\\nTicketless travel: ₹500 + 10 times max fare\\nSmoking: ₹500-1,000\\nCarrying prohibited items: ₹200-500\\nDamaging property: Cost of damage + penalty\\nDisruptive behavior: ₹200-500 [31]\\nCustomer care centers at stations\\nOnline complaint portal\\nToll-free helpline numbers\\nSocial media support channels\\nRight to Information applications\\nCCTV surveillance throughout system\\nMetal detectors at entry points\\nSecurity personnel deployment\\nBaggage screening facilities\\nEmergency response protocols\\nLicensed retail outlets only\\nNo unauthorized vending\\nAdvertisement space allocation\\nRestaurant/food court operations as per agreements[31] [33]\\n[31]'),\n",
              " Document(id='95289fc9-e1df-4542-ab88-3920e5e79c34', metadata={'author': '', 'creationDate': \"D:20250625074309+00'00'\", 'creationdate': '2025-06-25T07:43:09+00:00', 'creator': 'Chromium', 'file_path': '/content/Knowledge_base/Transportation.pdf', 'format': 'PDF 1.4', 'keywords': '', 'modDate': \"D:20250625074309+00'00'\", 'moddate': '2025-06-25T07:43:09+00:00', 'page': 18.0, 'producer': 'Skia/PDF m127', 'source': '/content/Knowledge_base/Transportation.pdf', 'subject': '', 'title': '', 'total_pages': 62.0, 'trapped': ''}, page_content='A. Immediate Answer:\\nMetro rail operations are governed by Metro Railway Act, 2002 (amended 2009), covering\\nsafety protocols, ticketing rules, prohibited items, and passenger conduct. Key rights include\\nsafe travel, accessible facilities, and grievance redressal. Penalties apply for violations like\\nticketless travel, carrying prohibited items, or disruptive behavior\\n.\\nB. Detailed Explanation:\\nTicketing Rules:\\nProhibited Items:\\nPassenger Conduct Rules:\\nSafety Protocols:\\nMetro train travel regulations\\nPassenger safety rules metro\\nMetro ticket rules and fines\\nDelhi Metro passenger rights\\n[31] [32] [33]\\nValid ticket/smart card required for entry\\nNo ticket sharing between passengers\\nChild fare: Below 3 years free, 3-12 years half fare\\nSenior citizen/student concessions as applicable\\nPenalty for ticketless travel: 10 times the maximum fare + ticket cost\\nInflammable substances\\nSharp weapons/tools\\nExplosive materials\\nAlcohol and drugs\\nLarge luggage (exceeding size limits)\\nPets (except guide dogs for disabled)\\nNo smoking in metro premises\\nNo eating/drinking in trains (except water)\\nNo spitting or littering\\nPriority seating for elderly, disabled, pregnant women\\nNo begging or commercial activities\\nMaintain silence in designated coaches\\nStand clear of closing doors\\nHold handrails during travel\\nReport suspicious objects/activities'),\n",
              " Document(id='da6929eb-48d2-4eb7-958f-46c9f78956b5', metadata={'author': '', 'creationDate': \"D:20250625074309+00'00'\", 'creationdate': '2025-06-25T07:43:09+00:00', 'creator': 'Chromium', 'file_path': '/content/Knowledge_base/Transportation.pdf', 'format': 'PDF 1.4', 'keywords': '', 'modDate': \"D:20250625074309+00'00'\", 'moddate': '2025-06-25T07:43:09+00:00', 'page': 0.0, 'producer': 'Skia/PDF m127', 'source': '/content/Knowledge_base/Transportation.pdf', 'subject': '', 'title': '', 'total_pages': 62.0, 'trapped': ''}, page_content='This knowledge database serves as a complete reference guide for Indian citizens navigating\\ntransportation-related legal matters. It covers all modes of transport including railways, road\\nvehicles, aviation, shipping, and metro systems. The information is structured for easy\\nintegration into RAG-based chatbot systems.\\nPrimary Question (English): What are the cancellation charges and refund rules for railway\\ntickets in India?\\nHindi Translation: भारत में रेलवे टिकट रद्द करने के शुल्क और रिफंड नियम क्या हैं?\\nAlternative Phrasings:\\nA. Immediate Answer:\\nRailway ticket cancellation charges vary based on timing and class. For confirmed tickets\\ncancelled more than 48 hours before departure, flat rates apply (₹120-₹240). Cancellation\\nbetween 48-12 hours incurs 25% of fare, and 12-4 hours before departure incurs 50% of fare\\n.\\nB. Detailed Explanation:\\nTimeline and Charges for Confirmed Tickets:\\nComprehensive Legal Knowledge Database for\\nTransportation in India\\nOverview\\n1. RAILWAY TRANSPORTATION\\nQuestion 1: Railway Ticket Cancellation and Refund Rules\\nHow much money will I get back if I cancel my train ticket?\\nWhat are IRCTC ticket cancellation fees?\\nRailway ticket refund policy India\\nTrain ticket cancellation charges IRCTC\\n[1]\\n[2] [3]\\nMore than 48 hours: Flat cancellation charges per passenger:\\nAC First Class/Executive Class: ₹240\\nAC 2-Tier/First Class: ₹200\\nAC 3-Tier/AC Chair Car: ₹180\\nSleeper Class: ₹120')]"
            ]
          },
          "metadata": {},
          "execution_count": 14
        }
      ]
    },
    {
      "cell_type": "code",
      "source": [],
      "metadata": {
        "id": "xv7vdEi6rBPy"
      },
      "execution_count": null,
      "outputs": []
    }
  ],
  "metadata": {
    "colab": {
      "provenance": []
    },
    "kernelspec": {
      "display_name": "Python 3",
      "name": "python3"
    },
    "language_info": {
      "name": "python"
    }
  },
  "nbformat": 4,
  "nbformat_minor": 0
}